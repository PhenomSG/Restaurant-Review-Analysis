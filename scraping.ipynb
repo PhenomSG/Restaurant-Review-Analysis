{
 "cells": [
  {
   "cell_type": "markdown",
   "id": "46ac66f4-a133-4a71-a5ac-c5fd62fee1bc",
   "metadata": {},
   "source": [
    "# YELP"
   ]
  },
  {
   "cell_type": "markdown",
   "id": "423ec37f-1aff-4162-a84c-e4645f7f5e6c",
   "metadata": {},
   "source": [
    "# Extracting Data"
   ]
  },
  {
   "cell_type": "markdown",
   "id": "286b2c64-f43f-42be-a300-2a7608c09380",
   "metadata": {},
   "source": [
    "## Mejico"
   ]
  },
  {
   "cell_type": "code",
   "execution_count": null,
   "id": "a5638685-87bd-49ba-82e4-341efa387009",
   "metadata": {},
   "outputs": [],
   "source": []
  },
  {
   "cell_type": "code",
   "execution_count": null,
   "id": "d05457a4-7cae-40d9-a464-d151d0c8a235",
   "metadata": {},
   "outputs": [],
   "source": []
  },
  {
   "cell_type": "code",
   "execution_count": null,
   "id": "b37ff09c-a64b-499d-a1bb-56a6bc59d40a",
   "metadata": {},
   "outputs": [],
   "source": []
  },
  {
   "cell_type": "code",
   "execution_count": null,
   "id": "9d07258d-d349-4369-bc1b-65fee3eab4f0",
   "metadata": {},
   "outputs": [],
   "source": []
  },
  {
   "cell_type": "code",
   "execution_count": null,
   "id": "27e82b1c-f4b1-4307-8677-ed4d3ac4a6eb",
   "metadata": {},
   "outputs": [],
   "source": []
  },
  {
   "cell_type": "code",
   "execution_count": null,
   "id": "d6a8a8df-7877-486d-a76f-de349d2eebd4",
   "metadata": {},
   "outputs": [],
   "source": []
  },
  {
   "cell_type": "code",
   "execution_count": null,
   "id": "926fab5d-3f47-4542-a228-03062e35873a",
   "metadata": {},
   "outputs": [],
   "source": []
  },
  {
   "cell_type": "code",
   "execution_count": null,
   "id": "213348e3-695d-4506-b743-ae06f828a642",
   "metadata": {},
   "outputs": [],
   "source": []
  }
 ],
 "metadata": {
  "kernelspec": {
   "display_name": "sentnlp",
   "language": "python",
   "name": "sentnlp"
  },
  "language_info": {
   "codemirror_mode": {
    "name": "ipython",
    "version": 3
   },
   "file_extension": ".py",
   "mimetype": "text/x-python",
   "name": "python",
   "nbconvert_exporter": "python",
   "pygments_lexer": "ipython3",
   "version": "3.11.0"
  }
 },
 "nbformat": 4,
 "nbformat_minor": 5
}
