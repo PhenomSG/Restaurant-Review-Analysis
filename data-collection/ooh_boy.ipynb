{
 "cells": [
  {
   "cell_type": "markdown",
   "id": "859e45ad-2378-4caa-b2ef-1dfca939ee21",
   "metadata": {},
   "source": [
    "## Scraping in a bunch"
   ]
  },
  {
   "cell_type": "code",
   "execution_count": 1,
   "id": "c8d84d35-45e0-45d5-8811-8953159f6d6e",
   "metadata": {},
   "outputs": [],
   "source": [
    "import requests\n",
    "from bs4 import BeautifulSoup\n",
    "import re"
   ]
  },
  {
   "cell_type": "code",
   "execution_count": 2,
   "id": "fe826878-57aa-490a-b5eb-0d1f6b7e6f31",
   "metadata": {},
   "outputs": [],
   "source": [
    "r = requests.get('https://www.yelp.com/search?find_desc=&find_loc=San+Francisco%2C+CA')"
   ]
  },
  {
   "cell_type": "code",
   "execution_count": 4,
   "id": "03a84a54-3a27-4e63-a194-30740d0f28ad",
   "metadata": {},
   "outputs": [
    {
     "data": {
      "text/plain": [
       "<Response [200]>"
      ]
     },
     "execution_count": 4,
     "metadata": {},
     "output_type": "execute_result"
    }
   ],
   "source": [
    "# Response\n",
    "# 200 - success\n",
    "r "
   ]
  },
  {
   "cell_type": "code",
   "execution_count": 5,
   "id": "72c60940-471d-45ec-bfc4-dce3a50764af",
   "metadata": {},
   "outputs": [],
   "source": [
    "soup = BeautifulSoup(r.text, 'html.parser')"
   ]
  },
  {
   "cell_type": "code",
   "execution_count": 6,
   "id": "305d9b95-9fe3-4daa-94ef-8341741ba778",
   "metadata": {},
   "outputs": [],
   "source": [
    "regex = re.compile('class')"
   ]
  },
  {
   "cell_type": "code",
   "execution_count": 7,
   "id": "a448e9de-dc92-4058-ae18-d1cfb82013bc",
   "metadata": {},
   "outputs": [
    {
     "data": {
      "text/plain": [
       "re.compile(r'class', re.UNICODE)"
      ]
     },
     "execution_count": 7,
     "metadata": {},
     "output_type": "execute_result"
    }
   ],
   "source": [
    "regex"
   ]
  },
  {
   "cell_type": "code",
   "execution_count": null,
   "id": "146c7e77-215c-45cd-9cac-13714d3e4fe9",
   "metadata": {},
   "outputs": [],
   "source": [
    "r = requests.get('https://www.yelp.com/search?find_desc=&find_loc=San+Francisco%2C+CA')\n",
    "soup = BeautifulSoup(r.text, 'html.parser')\n",
    "regex = re.compile('.*comment.*')\n",
    "results = soup.find_all('p', {'class':regex})\n",
    "reviews = [result.text for result in results]"
   ]
  },
  {
   "cell_type": "code",
   "execution_count": 11,
   "id": "0677791d-de32-47d2-ae80-f7674738d6ec",
   "metadata": {},
   "outputs": [
    {
     "name": "stdout",
     "output_type": "stream",
     "text": [
      "0 fog-harbor-fish-house-san-francisco-2\n",
      "1 house-of-prime-rib-san-francisco\n",
      "2 gary-danko-san-francisco\n",
      "3 foreign-cinema-san-francisco\n",
      "4 liholiho-yacht-club-san-francisco-2\n",
      "5 nopa-san-francisco\n",
      "6 marufuku-ramen-san-francisco-5\n",
      "7 sotto-mare-san-francisco-4\n",
      "8 tonys-pizza-napoletana-san-francisco\n",
      "9 lazy-bear-san-francisco-5\n"
     ]
    }
   ],
   "source": [
    "import requests\n",
    "from bs4 import BeautifulSoup\n",
    "import re\n",
    "import time\n",
    "\n",
    "# Define the URL for the Yelp search in San Francisco, CA\n",
    "search_url = \"https://www.yelp.com/search?find_desc=&find_loc=San+Francisco%2C+CA\"\n",
    "\n",
    "# Fetch the Yelp search results page\n",
    "# User-Agent header is a string that is sent with HTTP requests from a client (such as a web browser or a script) to a server\n",
    "headers = {'User-Agent': 'Mozilla/5.0'}  \n",
    "response = requests.get(search_url, headers=headers)\n",
    "soup = BeautifulSoup(response.text, 'html.parser')\n",
    "\n",
    "# Finds all links to restaurant pages on Yelp using a specific CSS class\n",
    "restaurant_links = soup.find_all('a', {'class': 'css-19v1rkv'})\n",
    "\n",
    "# Created a regex pattern to match restaurant names and URLs\n",
    "restaurant_pattern = re.compile(r'/biz/([^\\?]+)')\n",
    "\n",
    "# Iterate through each link and fetch the restaurant page\n",
    "flag = 0\n",
    "for link in restaurant_links:\n",
    "    href = link.get('href')\n",
    "    # Checks if the link matches the restaurant pattern and extract the restaurant name\n",
    "    match = restaurant_pattern.search(href)\n",
    "    if match:\n",
    "        restaurant_name = match.group(1)\n",
    "        print(flag,restaurant_name)\n",
    "        flag += 1"
   ]
  },
  {
   "cell_type": "code",
   "execution_count": null,
   "id": "35104674-e140-4e0e-a2df-a6ed98f66abb",
   "metadata": {},
   "outputs": [],
   "source": []
  },
  {
   "cell_type": "code",
   "execution_count": null,
   "id": "32effc5a-f315-42c7-921d-b3f7e9960900",
   "metadata": {},
   "outputs": [],
   "source": []
  },
  {
   "cell_type": "code",
   "execution_count": null,
   "id": "4c4b1b8f-5b8f-48ba-9e8e-5ec7f40853af",
   "metadata": {},
   "outputs": [],
   "source": []
  }
 ],
 "metadata": {
  "kernelspec": {
   "display_name": "sentnlp",
   "language": "python",
   "name": "sentnlp"
  },
  "language_info": {
   "codemirror_mode": {
    "name": "ipython",
    "version": 3
   },
   "file_extension": ".py",
   "mimetype": "text/x-python",
   "name": "python",
   "nbconvert_exporter": "python",
   "pygments_lexer": "ipython3",
   "version": "3.11.0"
  }
 },
 "nbformat": 4,
 "nbformat_minor": 5
}
