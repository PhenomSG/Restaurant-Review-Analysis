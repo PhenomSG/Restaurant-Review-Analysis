{
 "cells": [
  {
   "cell_type": "markdown",
   "id": "46ac66f4-a133-4a71-a5ac-c5fd62fee1bc",
   "metadata": {},
   "source": [
    "# YELP"
   ]
  },
  {
   "cell_type": "markdown",
   "id": "423ec37f-1aff-4162-a84c-e4645f7f5e6c",
   "metadata": {},
   "source": [
    "# Extracting Data"
   ]
  },
  {
   "cell_type": "markdown",
   "id": "286b2c64-f43f-42be-a300-2a7608c09380",
   "metadata": {},
   "source": [
    "## Mejico"
   ]
  },
  {
   "cell_type": "code",
   "execution_count": 15,
   "id": "350f30ec-00e4-4e87-a76c-8f0fc698241d",
   "metadata": {
    "collapsed": true,
    "jupyter": {
     "outputs_hidden": true
    }
   },
   "outputs": [
    {
     "name": "stdout",
     "output_type": "stream",
     "text": [
      "Collecting beautifulsoup4\n",
      "  Using cached beautifulsoup4-4.12.3-py3-none-any.whl (147 kB)\n",
      "Collecting soupsieve>1.2\n",
      "  Using cached soupsieve-2.5-py3-none-any.whl (36 kB)\n",
      "Installing collected packages: soupsieve, beautifulsoup4\n",
      "Successfully installed beautifulsoup4-4.12.3 soupsieve-2.5\n",
      "Note: you may need to restart the kernel to use updated packages.\n"
     ]
    },
    {
     "name": "stderr",
     "output_type": "stream",
     "text": [
      "\n",
      "[notice] A new release of pip available: 22.3 -> 24.0\n",
      "[notice] To update, run: E:\\Sentiment_Analysis_Using_NLP\\sentnlp\\Scripts\\python.exe -m pip install --upgrade pip\n"
     ]
    }
   ],
   "source": [
    "pip install beautifulsoup4"
   ]
  },
  {
   "cell_type": "code",
   "execution_count": 16,
   "id": "573a981c-7679-43e6-bcb8-9ca0e353eb16",
   "metadata": {},
   "outputs": [],
   "source": [
    "import requests\n",
    "from bs4 import BeautifulSoup\n",
    "import re"
   ]
  },
  {
   "cell_type": "code",
   "execution_count": 20,
   "id": "a5638685-87bd-49ba-82e4-341efa387009",
   "metadata": {},
   "outputs": [],
   "source": [
    "r = requests.get('https://www.yelp.com/biz/mejico-sydney-2')\n",
    "soup = BeautifulSoup(r.text, 'html.parser')\n",
    "regex = re.compile('.*comment.*')\n",
    "results = soup.find_all('p', {'class':regex})\n",
    "reviews = [result.text for result in results]"
   ]
  },
  {
   "cell_type": "code",
   "execution_count": 21,
   "id": "d05457a4-7cae-40d9-a464-d151d0c8a235",
   "metadata": {},
   "outputs": [
    {
     "data": {
      "text/plain": [
       "['The food is fresh and tasty.  The scallop ceviche started the lunch. The scallops were tender with a great acidity and use of mango and peppers. The steak was tender and I got the hint of tequila in the sauce. I enjoyed a watermelon salad that complimented the the steak. The portions are good, but a stretch if you are sharing. My only down point is the service. They really only showed up to present my next plate and never checked to see if I wanted another drink (which I did).Enjoyed the food.',\n",
       " 'The food was decent not great..  We had the guacamole which was bland and came with some type of plantain chips.. The chicken and steak tacos were good.. But the service was poor. We had a waitress with an attitude. She seemed upset whenever we asked for anything.  She would walk by and just stick up her hand and say \" just wait \".  She spilled the ingredients to make the guacamole all over the table but never apologized. The waitress didn\\'t come by at all, not even once to check on us.. I will not go back. Suggest you find a Mexican restaurant that really wants your business..',\n",
       " \"Food was okay, guacamole was below average. Service was awful. Waitress acted like she was missing the Finals in The Australian Open. In such a hurry she spilled the fixings for the less than average guac. Took less than a minute to take our order but it wasn't fast enough for her. Felt like we were intruding on her screen time. The food was fair. Prices were way too high for the level of mediocrity in the food. Average food, lousy service Wouldn't recommend this place\",\n",
       " 'The food and service here was really good.  It was more like tapas food than Mexican food!  The drinks were amazing too!',\n",
       " 'Visiting from Texas and decided to give this restaurant a try.  We were pleasantly surprised.  While the margaritas are more like martinis, the food was excellent.  More like a tapas, Mexican fusion.  Great way to try different plates.The real treat was Chelsea, our waitress.  Took the time to explain the menu and offer suggestions.  Always smiling and very pleasant.  Best service we have had in Sydney!',\n",
       " \"Don't come here expecting legit Mexican food but a modern twist on some staples. Loud party area, fun drinks and friendly staff make this a hip meeting area for large groups. Drinks were better than the food. They stuff the families toward the back but lack any amenities (no changing table) except a high chair. Service started off friendly but it took a while to get someone to take our order and then they forgot our dish which came out cold when we asked for it. Then we had to flag someone down to pay the bill. The watermelon salad was tasty but not complex, tossed with a few cucumbers and pistachios. The corn lollipops with spicy mayo sauce were probably the best dish. The beef empanadas were cold and average though the salsa was an interesting pickled onion. Definitely skip the octopus dish- it was dry, over cooked and lacked flavor though the presentation looked promising. It came with squares of polenta and dallops of potato mash with a dramatic squid ink streak across the dish but no interesting flavors stood out. All those dishes and still left hungry. The Guadalajara passion fruit drink was easy to sip and not too strong. The beer was average. This is more of a spot to grab some mixed cocktails and a few snacks but not meal worthy.\",\n",
       " \"Out of all the restaurants that I tried in Sydney, this was definitely the most reasonably priced one offering good food of course. We started off with Margarita's - they have $10 margaritas on Mondays (or perhaps all weekdays). We lost count of how many we had, they were so good. On to the food, we tried a little bit of everything - we ordered corn lollipops, jalapeño poppers, grilled halloumi, batata bravas to start and we shared 2 items from the grill which I can't remember (probably because of the margarita's). We ended with churros & chocolate sauce which was awesome. Service was good and the staff waiting us was very friendly. He also recommended us portions for certain items to match our party size. For instance, we didn't have to order 2 portions of an appetizer instead we could order one and a half portion which I think was great. It allowed us to chose more dishes than more quantity of the same dish.\",\n",
       " 'Great atmosphere, attentive service, solid margs, and a Tasty menu. The Brisket Tacos were substantial and delicious. The corn ribs???  Fawgetaboutit!  Unreal.  Wanted to order another plate.',\n",
       " 'We came here on a Thursday night @ 5pm and by 6pm the place was packed. A lovely big restaurant with a bar at the front (which is a bit awkward to try and push past everyone to get to your table). Friendly, helpful staff which is always a good start. The menu is large so we went with the \"feed me\" selection. All you need to do is sit back and let the chef feed you. As the other reviewers have stated the corn is a highlight and the pulled pork tacos, the sangria wasn\\'t bad either.Loved the Mexican tapas style food and will be back.',\n",
       " \"Have been here twice and have absolutely loved my experience both times. Straight through the wide and inviting doors, you're greeted with the modern, trendy and fresh vibe of the restaurant. Decor is a huge plus, with oversized exotic black lamps hanging overhead and rustic brick walls. Highly recommend:- The guacamole. It's made fresh in front of you and served with thinly sliced banana chips. - Corn cobs with popcorn and a really unique corn and popcorn hot salsa. It's like a party in your mouth. - The drinks! The cocktails are sweet and fruity but very alcoholic at the same time. They also serve more than a hundred types of tequila. There is a wooden spinner on the table where you spin 3 times to create your perfect tequila with 3 elements (an element is chosen with each spin). All the other food tasted good as well. The chorizo and black eye pea with corn chips dish came with around 6 corn chips - could have done with triple the amount. A really enjoyable experience but remember to book well in advance! It's crowded even on a Monday.\"]"
      ]
     },
     "execution_count": 21,
     "metadata": {},
     "output_type": "execute_result"
    }
   ],
   "source": [
    "reviews"
   ]
  },
  {
   "cell_type": "code",
   "execution_count": 22,
   "id": "b37ff09c-a64b-499d-a1bb-56a6bc59d40a",
   "metadata": {},
   "outputs": [
    {
     "name": "stdout",
     "output_type": "stream",
     "text": [
      "Reviews have been saved to Mejico_Sydney_Reviews.txt\n"
     ]
    }
   ],
   "source": [
    "restaurant_name = \"Mejico_Sydney\"\n",
    "\n",
    "# Create the filename by appending \"_Reviews.txt\" to the restaurant name\n",
    "filename = f\"{restaurant_name}_Reviews.txt\"\n",
    "\n",
    "# Open the file in write mode and save the reviews\n",
    "with open(filename, 'w', encoding='utf-8') as file:\n",
    "    # Write each review in the list to the file\n",
    "    for review in reviews:\n",
    "        file.write(review + '\\n\\n') \n",
    "\n",
    "print(f\"Reviews have been saved to {filename}\")\n"
   ]
  },
  {
   "cell_type": "code",
   "execution_count": null,
   "id": "9d07258d-d349-4369-bc1b-65fee3eab4f0",
   "metadata": {},
   "outputs": [],
   "source": []
  },
  {
   "cell_type": "code",
   "execution_count": null,
   "id": "27e82b1c-f4b1-4307-8677-ed4d3ac4a6eb",
   "metadata": {},
   "outputs": [],
   "source": []
  },
  {
   "cell_type": "code",
   "execution_count": null,
   "id": "d6a8a8df-7877-486d-a76f-de349d2eebd4",
   "metadata": {},
   "outputs": [],
   "source": []
  },
  {
   "cell_type": "code",
   "execution_count": null,
   "id": "926fab5d-3f47-4542-a228-03062e35873a",
   "metadata": {},
   "outputs": [],
   "source": []
  },
  {
   "cell_type": "code",
   "execution_count": null,
   "id": "213348e3-695d-4506-b743-ae06f828a642",
   "metadata": {},
   "outputs": [],
   "source": []
  }
 ],
 "metadata": {
  "kernelspec": {
   "display_name": "sentnlp",
   "language": "python",
   "name": "sentnlp"
  },
  "language_info": {
   "codemirror_mode": {
    "name": "ipython",
    "version": 3
   },
   "file_extension": ".py",
   "mimetype": "text/x-python",
   "name": "python",
   "nbconvert_exporter": "python",
   "pygments_lexer": "ipython3",
   "version": "3.11.0"
  }
 },
 "nbformat": 4,
 "nbformat_minor": 5
}
