{
 "cells": [
  {
   "cell_type": "markdown",
   "id": "f1d155ff-e7af-4096-88fb-0940a89b628a",
   "metadata": {},
   "source": [
    "# Prerequisites"
   ]
  },
  {
   "cell_type": "markdown",
   "id": "7484a3be-f516-48b4-ae68-3e51ae6f605b",
   "metadata": {},
   "source": [
    "#### Upgrading pip just to be sure"
   ]
  },
  {
   "cell_type": "code",
   "execution_count": null,
   "id": "0abaee97-6d93-4618-af20-5f1f8bb2ac6e",
   "metadata": {},
   "outputs": [],
   "source": [
    "pip install --upgrade pip"
   ]
  },
  {
   "cell_type": "markdown",
   "id": "5a5fcc1c-0dbc-4a27-8710-0b654af969ac",
   "metadata": {},
   "source": [
    "## Installing Python SDK\n",
    "### The Python SDK for the Gemini API, is contained in the google-generativeai package."
   ]
  },
  {
   "cell_type": "code",
   "execution_count": null,
   "id": "87b44d3d-cc31-42e6-969d-6593ce51d094",
   "metadata": {},
   "outputs": [],
   "source": [
    "pip install -q -U google-generativeai"
   ]
  },
  {
   "cell_type": "markdown",
   "id": "0aa66342-3252-46c9-aec5-0e2423c0d55a",
   "metadata": {},
   "source": [
    "## Import Packages"
   ]
  },
  {
   "cell_type": "markdown",
   "id": "d281ebdb-47aa-48b9-bb33-e39cc989a445",
   "metadata": {},
   "source": [
    "#### Jupyter notebook Widgets"
   ]
  },
  {
   "cell_type": "code",
   "execution_count": null,
   "id": "fd457ae3-2b83-4b90-8eb7-20fbdcfb705e",
   "metadata": {},
   "outputs": [],
   "source": [
    "pip install ipywidgets"
   ]
  },
  {
   "cell_type": "code",
   "execution_count": 1,
   "id": "c6b9a408-4a3e-4a0c-aad8-491c5616012e",
   "metadata": {},
   "outputs": [],
   "source": [
    "import pathlib\n",
    "import textwrap\n",
    "\n",
    "import google.generativeai as genai\n",
    "\n",
    "from IPython.display import display\n",
    "from IPython.display import Markdown\n",
    "\n",
    "\n",
    "def to_markdown(text):\n",
    "  text = text.replace('•', '  *')\n",
    "  return Markdown(textwrap.indent(text, '> ', predicate=lambda _: True))"
   ]
  },
  {
   "cell_type": "markdown",
   "id": "8619dfbf-f450-4eb5-a4dd-59a8381d016a",
   "metadata": {},
   "source": [
    "## Using dotenv"
   ]
  },
  {
   "cell_type": "code",
   "execution_count": 5,
   "id": "7a318f8d-dc8e-4c50-8f04-f3b5789073fc",
   "metadata": {},
   "outputs": [
    {
     "name": "stdout",
     "output_type": "stream",
     "text": [
      "Collecting python-dotenv\n",
      "  Downloading python_dotenv-1.0.1-py3-none-any.whl.metadata (23 kB)\n",
      "Downloading python_dotenv-1.0.1-py3-none-any.whl (19 kB)\n",
      "Installing collected packages: python-dotenv\n",
      "Successfully installed python-dotenv-1.0.1\n",
      "Note: you may need to restart the kernel to use updated packages.\n"
     ]
    }
   ],
   "source": [
    "pip install python-dotenv"
   ]
  },
  {
   "cell_type": "code",
   "execution_count": 7,
   "id": "3fe7f612-b500-4ee2-9703-a3f8c9a6b7d3",
   "metadata": {},
   "outputs": [],
   "source": [
    "from dotenv import load_dotenv\n",
    "import os\n",
    "load_dotenv()\n",
    "google_api_key = os.getenv('GOOGLE_API_KEY')"
   ]
  },
  {
   "cell_type": "markdown",
   "id": "ba87104e-ed62-45c5-b099-074960b9a6ee",
   "metadata": {},
   "source": [
    "## List models\n",
    "\n",
    "Using list_models to see the available Gemini models:\n",
    "\n",
    "The rate limit for Gemini-Pro models is 60 requests per minute (RPM).\n",
    "\n",
    "- `gemini-pro`: optimized for text-only prompts.\n",
    "- `gemini-pro-vision`: optimized for text-and-images prompts.\n"
   ]
  },
  {
   "cell_type": "code",
   "execution_count": null,
   "id": "35dd5107-f981-4ad4-97d3-1ef73b4b02e0",
   "metadata": {},
   "outputs": [],
   "source": []
  },
  {
   "cell_type": "code",
   "execution_count": null,
   "id": "a85d03b8-f533-449d-b67a-8d3f99a1296e",
   "metadata": {},
   "outputs": [],
   "source": []
  },
  {
   "cell_type": "code",
   "execution_count": null,
   "id": "7cb8dfaf-e210-49d3-bf98-453ff266815b",
   "metadata": {},
   "outputs": [],
   "source": []
  },
  {
   "cell_type": "code",
   "execution_count": null,
   "id": "44f57aee-3dc0-4a1f-80bf-ff15ba2835e0",
   "metadata": {},
   "outputs": [],
   "source": []
  },
  {
   "cell_type": "code",
   "execution_count": null,
   "id": "541e780c-d396-4a34-b2e1-337125b6c6ff",
   "metadata": {},
   "outputs": [],
   "source": []
  },
  {
   "cell_type": "code",
   "execution_count": null,
   "id": "85ac6cc8-eb94-4527-ba11-b0b50e50e867",
   "metadata": {},
   "outputs": [],
   "source": []
  },
  {
   "cell_type": "code",
   "execution_count": null,
   "id": "34429c26-5613-4f1b-a00f-049f8c6214f3",
   "metadata": {},
   "outputs": [],
   "source": []
  },
  {
   "cell_type": "code",
   "execution_count": null,
   "id": "1263e9e9-8c8e-462b-b2d4-ec1814914764",
   "metadata": {},
   "outputs": [],
   "source": []
  },
  {
   "cell_type": "code",
   "execution_count": null,
   "id": "0cbc4b6e-d807-469c-959e-75f5f1d33b1e",
   "metadata": {},
   "outputs": [],
   "source": []
  },
  {
   "cell_type": "code",
   "execution_count": null,
   "id": "398466d6-50a7-4e14-be20-c158fbd52c7f",
   "metadata": {},
   "outputs": [],
   "source": []
  },
  {
   "cell_type": "code",
   "execution_count": null,
   "id": "34867970-4885-46cf-b5fe-e6d4cd22ec46",
   "metadata": {},
   "outputs": [],
   "source": []
  },
  {
   "cell_type": "code",
   "execution_count": null,
   "id": "aaf62926-ca1c-40db-9a82-0fd1a26d5fe7",
   "metadata": {},
   "outputs": [],
   "source": []
  }
 ],
 "metadata": {
  "kernelspec": {
   "display_name": "sentnlp",
   "language": "python",
   "name": "sentnlp"
  },
  "language_info": {
   "codemirror_mode": {
    "name": "ipython",
    "version": 3
   },
   "file_extension": ".py",
   "mimetype": "text/x-python",
   "name": "python",
   "nbconvert_exporter": "python",
   "pygments_lexer": "ipython3",
   "version": "3.11.0"
  }
 },
 "nbformat": 4,
 "nbformat_minor": 5
}
