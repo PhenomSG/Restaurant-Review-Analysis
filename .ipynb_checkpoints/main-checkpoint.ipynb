{
 "cells": [
  {
   "cell_type": "markdown",
   "id": "f1d155ff-e7af-4096-88fb-0940a89b628a",
   "metadata": {},
   "source": [
    "# Prerequisites"
   ]
  },
  {
   "cell_type": "markdown",
   "id": "7484a3be-f516-48b4-ae68-3e51ae6f605b",
   "metadata": {},
   "source": [
    "#### Upgrading pip just to be sure"
   ]
  },
  {
   "cell_type": "code",
   "execution_count": null,
   "id": "0abaee97-6d93-4618-af20-5f1f8bb2ac6e",
   "metadata": {},
   "outputs": [],
   "source": [
    "pip install --upgrade pip"
   ]
  },
  {
   "cell_type": "markdown",
   "id": "5a5fcc1c-0dbc-4a27-8710-0b654af969ac",
   "metadata": {},
   "source": [
    "## Installing Python SDK\n",
    "### The Python SDK for the Gemini API, is contained in the google-generativeai package."
   ]
  },
  {
   "cell_type": "code",
   "execution_count": null,
   "id": "87b44d3d-cc31-42e6-969d-6593ce51d094",
   "metadata": {},
   "outputs": [],
   "source": [
    "pip install -q -U google-generativeai"
   ]
  },
  {
   "cell_type": "markdown",
   "id": "0aa66342-3252-46c9-aec5-0e2423c0d55a",
   "metadata": {},
   "source": [
    "## Import Packages"
   ]
  },
  {
   "cell_type": "markdown",
   "id": "d281ebdb-47aa-48b9-bb33-e39cc989a445",
   "metadata": {},
   "source": [
    "#### Jupyter notebook Widgets"
   ]
  },
  {
   "cell_type": "code",
   "execution_count": null,
   "id": "fd457ae3-2b83-4b90-8eb7-20fbdcfb705e",
   "metadata": {},
   "outputs": [],
   "source": [
    "pip install ipywidgets"
   ]
  },
  {
   "cell_type": "code",
   "execution_count": 1,
   "id": "c6b9a408-4a3e-4a0c-aad8-491c5616012e",
   "metadata": {},
   "outputs": [],
   "source": [
    "import pathlib\n",
    "import textwrap\n",
    "\n",
    "import google.generativeai as genai\n",
    "\n",
    "from IPython.display import display\n",
    "from IPython.display import Markdown\n",
    "\n",
    "\n",
    "def to_markdown(text):\n",
    "  text = text.replace('•', '  *')\n",
    "  return Markdown(textwrap.indent(text, '> ', predicate=lambda _: True))"
   ]
  },
  {
   "cell_type": "markdown",
   "id": "8619dfbf-f450-4eb5-a4dd-59a8381d016a",
   "metadata": {},
   "source": [
    "## Using dotenv"
   ]
  },
  {
   "cell_type": "code",
   "execution_count": 5,
   "id": "7a318f8d-dc8e-4c50-8f04-f3b5789073fc",
   "metadata": {},
   "outputs": [
    {
     "name": "stdout",
     "output_type": "stream",
     "text": [
      "Collecting python-dotenv\n",
      "  Downloading python_dotenv-1.0.1-py3-none-any.whl.metadata (23 kB)\n",
      "Downloading python_dotenv-1.0.1-py3-none-any.whl (19 kB)\n",
      "Installing collected packages: python-dotenv\n",
      "Successfully installed python-dotenv-1.0.1\n",
      "Note: you may need to restart the kernel to use updated packages.\n"
     ]
    }
   ],
   "source": [
    "pip install python-dotenv"
   ]
  },
  {
   "cell_type": "code",
   "execution_count": 17,
   "id": "3fe7f612-b500-4ee2-9703-a3f8c9a6b7d3",
   "metadata": {},
   "outputs": [],
   "source": [
    "from dotenv import load_dotenv\n",
    "import os\n",
    "#load_dotenv()\n",
    "google_api_key = os.getenv('GOOGLE_API_KEY')"
   ]
  },
  {
   "cell_type": "markdown",
   "id": "ba87104e-ed62-45c5-b099-074960b9a6ee",
   "metadata": {},
   "source": [
    "## List models\n",
    "\n",
    "Using list_models to see the available Gemini models:\n",
    "\n",
    "The rate limit for Gemini-Pro models is 60 requests per minute (RPM).\n",
    "\n",
    "- `gemini-pro`: optimized for text-only prompts.\n",
    "- `gemini-pro-vision`: optimized for text-and-images prompts.\n"
   ]
  },
  {
   "cell_type": "code",
   "execution_count": 18,
   "id": "7cd669dd-7b7b-4d05-808e-954de7370948",
   "metadata": {},
   "outputs": [],
   "source": [
    "# Or use `os.getenv('GOOGLE_API_KEY')` to fetch an environment variable.\n",
    "# GOOGLE_API_KEY=userdata.get('GOOGLE_API_KEY')\n",
    "\n",
    "genai.configure(api_key=google_api_key)"
   ]
  },
  {
   "cell_type": "code",
   "execution_count": 19,
   "id": "35dd5107-f981-4ad4-97d3-1ef73b4b02e0",
   "metadata": {},
   "outputs": [
    {
     "name": "stdout",
     "output_type": "stream",
     "text": [
      "models/gemini-1.0-pro\n",
      "models/gemini-1.0-pro-001\n",
      "models/gemini-1.0-pro-latest\n",
      "models/gemini-1.0-pro-vision-latest\n",
      "models/gemini-1.5-flash-latest\n",
      "models/gemini-1.5-pro-latest\n",
      "models/gemini-pro\n",
      "models/gemini-pro-vision\n"
     ]
    }
   ],
   "source": [
    "for m in genai.list_models():\n",
    "  if 'generateContent' in m.supported_generation_methods:\n",
    "    print(m.name)"
   ]
  },
  {
   "cell_type": "markdown",
   "id": "6c1e59b6-0cbf-4ee4-92d9-e37bbeb62455",
   "metadata": {},
   "source": [
    "## Generate text from text inputs\r\n",
    "For text-only prompts, use the gemini-pro model:"
   ]
  },
  {
   "cell_type": "code",
   "execution_count": 20,
   "id": "7cb8dfaf-e210-49d3-bf98-453ff266815b",
   "metadata": {},
   "outputs": [],
   "source": [
    "model = genai.GenerativeModel('gemini-pro')"
   ]
  },
  {
   "cell_type": "code",
   "execution_count": 21,
   "id": "44f57aee-3dc0-4a1f-80bf-ff15ba2835e0",
   "metadata": {},
   "outputs": [
    {
     "name": "stdout",
     "output_type": "stream",
     "text": [
      "CPU times: total: 0 ns\n",
      "Wall time: 9.28 s\n"
     ]
    }
   ],
   "source": [
    "%%time\n",
    "response = model.generate_content(\"What is the meaning of life?\")"
   ]
  },
  {
   "cell_type": "code",
   "execution_count": 23,
   "id": "541e780c-d396-4a34-b2e1-337125b6c6ff",
   "metadata": {},
   "outputs": [
    {
     "data": {
      "text/plain": [
       "'The meaning of life is a profound and multifaceted question that has preoccupied philosophers, theologians, and individuals throughout history. While there is no universally accepted answer, various perspectives offer insights into this complex concept:\\n\\n**Subjective Meaning:**\\n\\n* **Personal Fulfillment:** The meaning of life lies in pursuing activities and goals that bring happiness, contentment, and a sense of accomplishment.\\n* **Relationships:** Connecting with others, building meaningful relationships, and contributing to the lives of loved ones can provide a sense of purpose and belonging.\\n* **Experiences:** Embracing new experiences, exploring different perspectives, and challenging oneself can enrich life and give it meaning.\\n\\n**Purpose-Driven Meaning:**\\n\\n* **Service to Others:** Dedicating oneself to helping others, contributing to a cause, or making a positive impact on society can give life a sense of purpose and significance.\\n* **Creating Legacies:** Leaving behind a lasting impact, whether through art, scientific discoveries, or social initiatives, can provide a sense of meaning for future generations.\\n* **Spiritual Meaning:** For some, the meaning of life is found in connection to a higher power, divine purpose, or a belief in a spiritual realm.\\n\\n**Philosophical Perspectives:**\\n\\n* **Existentialism:** The meaning of life is not inherent but rather created by individuals through their choices and actions.\\n* **Utilitarianism:** The meaning of life lies in maximizing happiness and well-being for the greatest number of people.\\n* **Nihilism:** There is no inherent meaning or purpose to life; it is ultimately meaningless and absurd.\\n* **Absurdism:** Life is inherently meaningless, but individuals can find meaning by embracing the absurdity and creating their own values.\\n\\n**Other Perspectives:**\\n\\n* **Scientific:** The purpose of life could be seen as the continuation of the species through evolution and genetic inheritance.\\n* **Biological:** From a biological standpoint, the meaning of life may be related to the survival and flourishing of individuals and their offspring.\\n* **Psychological:** Psychological theories suggest that meaning is derived from a sense of coherence, self-efficacy, and growth.\\n\\n**Personal Journey:**\\n\\nUltimately, the meaning of life is a personal journey and is shaped by individual experiences, beliefs, and values. It is not a destination but rather an ongoing process of exploration and exploration.'"
      ]
     },
     "execution_count": 23,
     "metadata": {},
     "output_type": "execute_result"
    }
   ],
   "source": [
    "response.text"
   ]
  },
  {
   "cell_type": "code",
   "execution_count": 25,
   "id": "85ac6cc8-eb94-4527-ba11-b0b50e50e867",
   "metadata": {},
   "outputs": [
    {
     "data": {
      "text/markdown": [
       "> The meaning of life is a profound and multifaceted question that has preoccupied philosophers, theologians, and individuals throughout history. While there is no universally accepted answer, various perspectives offer insights into this complex concept:\n",
       "> \n",
       "> **Subjective Meaning:**\n",
       "> \n",
       "> * **Personal Fulfillment:** The meaning of life lies in pursuing activities and goals that bring happiness, contentment, and a sense of accomplishment.\n",
       "> * **Relationships:** Connecting with others, building meaningful relationships, and contributing to the lives of loved ones can provide a sense of purpose and belonging.\n",
       "> * **Experiences:** Embracing new experiences, exploring different perspectives, and challenging oneself can enrich life and give it meaning.\n",
       "> \n",
       "> **Purpose-Driven Meaning:**\n",
       "> \n",
       "> * **Service to Others:** Dedicating oneself to helping others, contributing to a cause, or making a positive impact on society can give life a sense of purpose and significance.\n",
       "> * **Creating Legacies:** Leaving behind a lasting impact, whether through art, scientific discoveries, or social initiatives, can provide a sense of meaning for future generations.\n",
       "> * **Spiritual Meaning:** For some, the meaning of life is found in connection to a higher power, divine purpose, or a belief in a spiritual realm.\n",
       "> \n",
       "> **Philosophical Perspectives:**\n",
       "> \n",
       "> * **Existentialism:** The meaning of life is not inherent but rather created by individuals through their choices and actions.\n",
       "> * **Utilitarianism:** The meaning of life lies in maximizing happiness and well-being for the greatest number of people.\n",
       "> * **Nihilism:** There is no inherent meaning or purpose to life; it is ultimately meaningless and absurd.\n",
       "> * **Absurdism:** Life is inherently meaningless, but individuals can find meaning by embracing the absurdity and creating their own values.\n",
       "> \n",
       "> **Other Perspectives:**\n",
       "> \n",
       "> * **Scientific:** The purpose of life could be seen as the continuation of the species through evolution and genetic inheritance.\n",
       "> * **Biological:** From a biological standpoint, the meaning of life may be related to the survival and flourishing of individuals and their offspring.\n",
       "> * **Psychological:** Psychological theories suggest that meaning is derived from a sense of coherence, self-efficacy, and growth.\n",
       "> \n",
       "> **Personal Journey:**\n",
       "> \n",
       "> Ultimately, the meaning of life is a personal journey and is shaped by individual experiences, beliefs, and values. It is not a destination but rather an ongoing process of exploration and exploration."
      ],
      "text/plain": [
       "<IPython.core.display.Markdown object>"
      ]
     },
     "execution_count": 25,
     "metadata": {},
     "output_type": "execute_result"
    }
   ],
   "source": [
    "to_markdown(response.text)"
   ]
  },
  {
   "cell_type": "code",
   "execution_count": 27,
   "id": "34429c26-5613-4f1b-a00f-049f8c6214f3",
   "metadata": {},
   "outputs": [
    {
     "name": "stdout",
     "output_type": "stream",
     "text": [
      "CPU times: total: 0 ns\n",
      "Wall time: 8.29 s\n"
     ]
    },
    {
     "data": {
      "text/markdown": [
       "> **Tony Stark (Iron Man)**\n",
       "> \n",
       "> * **Technological Genius:** Stark is an unparalleled inventor and engineer, having created countless advanced weapons and technologies.\n",
       "> * **Charisma and Wit:** Stark is known for his charming and quotable personality.\n",
       "> * **Iron Man Suit:** As Iron Man, Stark possesses immense strength, advanced weaponry, and flight capabilities.\n",
       "> * **Humanitarian:** Despite his flaws, Stark has a genuine desire to protect the innocent and contribute to society.\n",
       "> * **Financial Resources:** As CEO of Stark Industries, Stark has access to vast wealth and resources.\n",
       "> \n",
       "> **Bruce Wayne (Batman)**\n",
       "> \n",
       "> * **Detective Skills:** Wayne is an exceptional detective, able to solve complex mysteries and uncover hidden truths.\n",
       "> * **Physical Prowess:** Despite relying on gadgets, Wayne is an accomplished martial artist and athlete.\n",
       "> * **Wealth and Influence:** As the CEO of Wayne Enterprises, Wayne is incredibly wealthy and has significant influence in Gotham City.\n",
       "> * **Dark Knight Persona:** As Batman, Wayne embodies fear and intimidation, using his shadow presence to protect the city.\n",
       "> * **Strong Allies:** Wayne has a close network of allies, including Robin, Nightwing, and Commissioner Gordon.\n",
       "> \n",
       "> **Comparison**\n",
       "> \n",
       "> Both Tony Stark and Bruce Wayne are brilliant, wealthy, and driven heroes. However, their approaches and personalities are vastly different:\n",
       "> \n",
       "> * **Technological vs. Human Reliance:** Stark relies heavily on his gadgets and inventions, while Wayne emphasizes his own skills and abilities.\n",
       "> * **Public vs. Private Persona:** Stark is known for his flamboyant and public persona, while Wayne operates in secret as Batman.\n",
       "> * **Individualism vs. Collaboration:** Stark tends to act alone, while Wayne has a network of allies he collaborates with.\n",
       "> * **Optimism vs. Pessimism:** Stark has a relatively optimistic outlook on life, while Wayne is often brooding and pessimistic about Gotham City.\n",
       "> * **Motivation:** Stark is motivated by guilt and a desire to atone for his past mistakes, while Wayne is driven by a tragic loss and a desire to avenge his parents.\n",
       "> \n",
       "> **Conclusion**\n",
       "> \n",
       "> Choosing which character is \"better\" ultimately depends on personal preferences. Tony Stark offers a technologically advanced, charismatic, and humanitarian approach to heroism. Bruce Wayne provides a darker, more introspective, and human-centric perspective. Both characters are iconic and complex heroes who have captured the imaginations of fans for decades."
      ],
      "text/plain": [
       "<IPython.core.display.Markdown object>"
      ]
     },
     "execution_count": 27,
     "metadata": {},
     "output_type": "execute_result"
    }
   ],
   "source": [
    "%%time\n",
    "response = model.generate_content(\"Who is better Tony Stark or Bruce Wayne?\")\n",
    "to_markdown(response.text)"
   ]
  },
  {
   "cell_type": "code",
   "execution_count": null,
   "id": "1263e9e9-8c8e-462b-b2d4-ec1814914764",
   "metadata": {},
   "outputs": [],
   "source": []
  },
  {
   "cell_type": "code",
   "execution_count": null,
   "id": "0cbc4b6e-d807-469c-959e-75f5f1d33b1e",
   "metadata": {},
   "outputs": [],
   "source": []
  },
  {
   "cell_type": "code",
   "execution_count": null,
   "id": "398466d6-50a7-4e14-be20-c158fbd52c7f",
   "metadata": {},
   "outputs": [],
   "source": []
  },
  {
   "cell_type": "code",
   "execution_count": null,
   "id": "34867970-4885-46cf-b5fe-e6d4cd22ec46",
   "metadata": {},
   "outputs": [],
   "source": []
  },
  {
   "cell_type": "code",
   "execution_count": null,
   "id": "aaf62926-ca1c-40db-9a82-0fd1a26d5fe7",
   "metadata": {},
   "outputs": [],
   "source": []
  }
 ],
 "metadata": {
  "kernelspec": {
   "display_name": "sentnlp",
   "language": "python",
   "name": "sentnlp"
  },
  "language_info": {
   "codemirror_mode": {
    "name": "ipython",
    "version": 3
   },
   "file_extension": ".py",
   "mimetype": "text/x-python",
   "name": "python",
   "nbconvert_exporter": "python",
   "pygments_lexer": "ipython3",
   "version": "3.11.0"
  }
 },
 "nbformat": 4,
 "nbformat_minor": 5
}
