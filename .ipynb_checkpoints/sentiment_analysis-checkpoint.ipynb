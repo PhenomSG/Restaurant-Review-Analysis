{
 "cells": [
  {
   "cell_type": "code",
   "execution_count": null,
   "id": "e7148f11-e8b8-4429-99e0-e83b814a139a",
   "metadata": {},
   "outputs": [],
   "source": []
  }
 ],
 "metadata": {
  "kernelspec": {
   "display_name": "sentnlp",
   "language": "python",
   "name": "sentnlp"
  },
  "language_info": {
   "codemirror_mode": {
    "name": "ipython",
    "version": 3
   },
   "file_extension": ".py",
   "mimetype": "text/x-python",
   "name": "python",
   "nbconvert_exporter": "python",
   "pygments_lexer": "ipython3",
   "version": "3.11.0"
  }
 },
 "nbformat": 4,
 "nbformat_minor": 5
}
