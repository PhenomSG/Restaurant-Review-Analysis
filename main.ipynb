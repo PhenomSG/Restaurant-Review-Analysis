{
 "cells": [
  {
   "cell_type": "markdown",
   "id": "f1d155ff-e7af-4096-88fb-0940a89b628a",
   "metadata": {},
   "source": [
    "# Prerequisites"
   ]
  },
  {
   "cell_type": "markdown",
   "id": "7484a3be-f516-48b4-ae68-3e51ae6f605b",
   "metadata": {},
   "source": [
    "#### Upgrading pip just to be sure"
   ]
  },
  {
   "cell_type": "code",
   "execution_count": null,
   "id": "0abaee97-6d93-4618-af20-5f1f8bb2ac6e",
   "metadata": {},
   "outputs": [],
   "source": [
    "pip install --upgrade pip"
   ]
  },
  {
   "cell_type": "markdown",
   "id": "5a5fcc1c-0dbc-4a27-8710-0b654af969ac",
   "metadata": {},
   "source": [
    "## Installing Python SDK\n",
    "### The Python SDK for the Gemini API, is contained in the google-generativeai package."
   ]
  },
  {
   "cell_type": "code",
   "execution_count": null,
   "id": "87b44d3d-cc31-42e6-969d-6593ce51d094",
   "metadata": {},
   "outputs": [],
   "source": [
    "pip install -q -U google-generativeai"
   ]
  },
  {
   "cell_type": "markdown",
   "id": "0aa66342-3252-46c9-aec5-0e2423c0d55a",
   "metadata": {},
   "source": [
    "## Import Packages"
   ]
  },
  {
   "cell_type": "markdown",
   "id": "d281ebdb-47aa-48b9-bb33-e39cc989a445",
   "metadata": {},
   "source": [
    "#### Jupyter notebook Widgets"
   ]
  },
  {
   "cell_type": "code",
   "execution_count": null,
   "id": "fd457ae3-2b83-4b90-8eb7-20fbdcfb705e",
   "metadata": {},
   "outputs": [],
   "source": [
    "pip install ipywidgets"
   ]
  },
  {
   "cell_type": "code",
   "execution_count": 1,
   "id": "c6b9a408-4a3e-4a0c-aad8-491c5616012e",
   "metadata": {},
   "outputs": [],
   "source": [
    "import pathlib\n",
    "import textwrap\n",
    "\n",
    "import google.generativeai as genai\n",
    "\n",
    "from IPython.display import display\n",
    "from IPython.display import Markdown\n",
    "\n",
    "\n",
    "def to_markdown(text):\n",
    "  text = text.replace('•', '  *')\n",
    "  return Markdown(textwrap.indent(text, '> ', predicate=lambda _: True))"
   ]
  },
  {
   "cell_type": "markdown",
   "id": "8619dfbf-f450-4eb5-a4dd-59a8381d016a",
   "metadata": {},
   "source": [
    "## Using dotenv"
   ]
  },
  {
   "cell_type": "code",
   "execution_count": 5,
   "id": "7a318f8d-dc8e-4c50-8f04-f3b5789073fc",
   "metadata": {},
   "outputs": [
    {
     "name": "stdout",
     "output_type": "stream",
     "text": [
      "Collecting python-dotenv\n",
      "  Downloading python_dotenv-1.0.1-py3-none-any.whl.metadata (23 kB)\n",
      "Downloading python_dotenv-1.0.1-py3-none-any.whl (19 kB)\n",
      "Installing collected packages: python-dotenv\n",
      "Successfully installed python-dotenv-1.0.1\n",
      "Note: you may need to restart the kernel to use updated packages.\n"
     ]
    }
   ],
   "source": [
    "pip install python-dotenv"
   ]
  },
  {
   "cell_type": "code",
   "execution_count": 17,
   "id": "3fe7f612-b500-4ee2-9703-a3f8c9a6b7d3",
   "metadata": {},
   "outputs": [],
   "source": [
    "from dotenv import load_dotenv\n",
    "import os\n",
    "#load_dotenv()\n",
    "google_api_key = os.getenv('GOOGLE_API_KEY')"
   ]
  },
  {
   "cell_type": "markdown",
   "id": "ba87104e-ed62-45c5-b099-074960b9a6ee",
   "metadata": {},
   "source": [
    "## List models\n",
    "\n",
    "Using list_models to see the available Gemini models:\n",
    "\n",
    "The rate limit for Gemini-Pro models is 60 requests per minute (RPM).\n",
    "\n",
    "- `gemini-pro`: optimized for text-only prompts.\n",
    "- `gemini-pro-vision`: optimized for text-and-images prompts.\n"
   ]
  },
  {
   "cell_type": "code",
   "execution_count": 18,
   "id": "7cd669dd-7b7b-4d05-808e-954de7370948",
   "metadata": {},
   "outputs": [],
   "source": [
    "# Or use `os.getenv('GOOGLE_API_KEY')` to fetch an environment variable.\n",
    "# GOOGLE_API_KEY=userdata.get('GOOGLE_API_KEY')\n",
    "\n",
    "genai.configure(api_key=google_api_key)"
   ]
  },
  {
   "cell_type": "code",
   "execution_count": 19,
   "id": "35dd5107-f981-4ad4-97d3-1ef73b4b02e0",
   "metadata": {},
   "outputs": [
    {
     "name": "stdout",
     "output_type": "stream",
     "text": [
      "models/gemini-1.0-pro\n",
      "models/gemini-1.0-pro-001\n",
      "models/gemini-1.0-pro-latest\n",
      "models/gemini-1.0-pro-vision-latest\n",
      "models/gemini-1.5-flash-latest\n",
      "models/gemini-1.5-pro-latest\n",
      "models/gemini-pro\n",
      "models/gemini-pro-vision\n"
     ]
    }
   ],
   "source": [
    "for m in genai.list_models():\n",
    "  if 'generateContent' in m.supported_generation_methods:\n",
    "    print(m.name)"
   ]
  },
  {
   "cell_type": "markdown",
   "id": "6c1e59b6-0cbf-4ee4-92d9-e37bbeb62455",
   "metadata": {},
   "source": [
    "## Generate text from text inputs\r\n",
    "For text-only prompts, use the gemini-pro model:"
   ]
  },
  {
   "cell_type": "code",
   "execution_count": 31,
   "id": "7cb8dfaf-e210-49d3-bf98-453ff266815b",
   "metadata": {},
   "outputs": [],
   "source": [
    "model = genai.GenerativeModel('gemini-pro')"
   ]
  },
  {
   "cell_type": "code",
   "execution_count": 32,
   "id": "44f57aee-3dc0-4a1f-80bf-ff15ba2835e0",
   "metadata": {},
   "outputs": [
    {
     "name": "stdout",
     "output_type": "stream",
     "text": [
      "CPU times: total: 0 ns\n",
      "Wall time: 7.81 s\n"
     ]
    }
   ],
   "source": [
    "%%time\n",
    "response = model.generate_content(\"What is the meaning of life?\")"
   ]
  },
  {
   "cell_type": "code",
   "execution_count": 33,
   "id": "8dcdae36-17da-4db2-9c62-943a263db745",
   "metadata": {},
   "outputs": [
    {
     "data": {
      "text/plain": [
       "response:\n",
       "GenerateContentResponse(\n",
       "    done=True,\n",
       "    iterator=None,\n",
       "    result=glm.GenerateContentResponse({\n",
       "      \"candidates\": [\n",
       "        {\n",
       "          \"content\": {\n",
       "            \"parts\": [\n",
       "              {\n",
       "                \"text\": \"**Philosophical Perspectives:**\\n\\n* **Existentialism:** Life is inherently meaningless, but individuals can create their own meaning through their actions and choices.\\n* **Hedonism:** The meaning of life lies in pursuing pleasure and avoiding pain.\\n* **Absolutism:** Life has an objective, universal meaning that is revealed through religion or other higher powers.\\n* **Nihilism:** Life is ultimately meaningless and devoid of purpose.\\n* **Humanism:** Life's meaning is found in human connections, experiences, and contributions to society.\\n\\n**Religious Perspectives:**\\n\\n* **Christianity:** Life's purpose is to love God, love others, and spread the gospel.\\n* **Buddhism:** Life is a cycle of suffering that can be ended through enlightenment and the path of the eightfold way.\\n* **Hinduism:** Life is a journey of spiritual evolution and the attainment of moksha (liberation).\\n* **Islam:** Life's purpose is to submit to the will of Allah and live a righteous life.\\n* **Judaism:** Life's meaning is to fulfill the Torah's commandments and live a life of holiness and service.\\n\\n**Scientific Perspectives:**\\n\\n* **Evolutionary Biology:** Life's purpose is to reproduce and pass on genes.\\n* **Naturalism:** Life is a natural phenomenon without inherent meaning.\\n* **Artificial Intelligence:** The meaning of life can be whatever humans program it to be.\\n\\n**Other Perspectives:**\\n\\n* **Personal Experiences and Beliefs:** Each individual's experiences, values, and beliefs shape their own unique understanding of life's meaning.\\n* **Purpose and Fulfillment:** Life can find meaning in finding a sense of purpose, whether through work, relationships, hobbies, or other activities.\\n* **Social Impact:** Life's purpose can be found in making a positive impact on others and contributing to the well-being of society.\\n\\n**Conclusion:**\\n\\nThe meaning of life is a complex and personal question that has been debated by philosophers, theologians, scientists, and individuals throughout history. There is no single, universally accepted answer. Ultimately, each person must find their own meaning and purpose in life through their own experiences and beliefs.\"\n",
       "              }\n",
       "            ],\n",
       "            \"role\": \"model\"\n",
       "          },\n",
       "          \"finish_reason\": 1,\n",
       "          \"index\": 0,\n",
       "          \"safety_ratings\": [\n",
       "            {\n",
       "              \"category\": 9,\n",
       "              \"probability\": 1,\n",
       "              \"blocked\": false\n",
       "            },\n",
       "            {\n",
       "              \"category\": 8,\n",
       "              \"probability\": 1,\n",
       "              \"blocked\": false\n",
       "            },\n",
       "            {\n",
       "              \"category\": 7,\n",
       "              \"probability\": 1,\n",
       "              \"blocked\": false\n",
       "            },\n",
       "            {\n",
       "              \"category\": 10,\n",
       "              \"probability\": 1,\n",
       "              \"blocked\": false\n",
       "            }\n",
       "          ],\n",
       "          \"token_count\": 0,\n",
       "          \"grounding_attributions\": []\n",
       "        }\n",
       "      ]\n",
       "    }),\n",
       ")"
      ]
     },
     "execution_count": 33,
     "metadata": {},
     "output_type": "execute_result"
    }
   ],
   "source": [
    "response"
   ]
  },
  {
   "cell_type": "code",
   "execution_count": 34,
   "id": "541e780c-d396-4a34-b2e1-337125b6c6ff",
   "metadata": {},
   "outputs": [
    {
     "data": {
      "text/plain": [
       "\"**Philosophical Perspectives:**\\n\\n* **Existentialism:** Life is inherently meaningless, but individuals can create their own meaning through their actions and choices.\\n* **Hedonism:** The meaning of life lies in pursuing pleasure and avoiding pain.\\n* **Absolutism:** Life has an objective, universal meaning that is revealed through religion or other higher powers.\\n* **Nihilism:** Life is ultimately meaningless and devoid of purpose.\\n* **Humanism:** Life's meaning is found in human connections, experiences, and contributions to society.\\n\\n**Religious Perspectives:**\\n\\n* **Christianity:** Life's purpose is to love God, love others, and spread the gospel.\\n* **Buddhism:** Life is a cycle of suffering that can be ended through enlightenment and the path of the eightfold way.\\n* **Hinduism:** Life is a journey of spiritual evolution and the attainment of moksha (liberation).\\n* **Islam:** Life's purpose is to submit to the will of Allah and live a righteous life.\\n* **Judaism:** Life's meaning is to fulfill the Torah's commandments and live a life of holiness and service.\\n\\n**Scientific Perspectives:**\\n\\n* **Evolutionary Biology:** Life's purpose is to reproduce and pass on genes.\\n* **Naturalism:** Life is a natural phenomenon without inherent meaning.\\n* **Artificial Intelligence:** The meaning of life can be whatever humans program it to be.\\n\\n**Other Perspectives:**\\n\\n* **Personal Experiences and Beliefs:** Each individual's experiences, values, and beliefs shape their own unique understanding of life's meaning.\\n* **Purpose and Fulfillment:** Life can find meaning in finding a sense of purpose, whether through work, relationships, hobbies, or other activities.\\n* **Social Impact:** Life's purpose can be found in making a positive impact on others and contributing to the well-being of society.\\n\\n**Conclusion:**\\n\\nThe meaning of life is a complex and personal question that has been debated by philosophers, theologians, scientists, and individuals throughout history. There is no single, universally accepted answer. Ultimately, each person must find their own meaning and purpose in life through their own experiences and beliefs.\""
      ]
     },
     "execution_count": 34,
     "metadata": {},
     "output_type": "execute_result"
    }
   ],
   "source": [
    "response.text"
   ]
  },
  {
   "cell_type": "code",
   "execution_count": 35,
   "id": "85ac6cc8-eb94-4527-ba11-b0b50e50e867",
   "metadata": {},
   "outputs": [
    {
     "data": {
      "text/markdown": [
       "> **Philosophical Perspectives:**\n",
       "> \n",
       "> * **Existentialism:** Life is inherently meaningless, but individuals can create their own meaning through their actions and choices.\n",
       "> * **Hedonism:** The meaning of life lies in pursuing pleasure and avoiding pain.\n",
       "> * **Absolutism:** Life has an objective, universal meaning that is revealed through religion or other higher powers.\n",
       "> * **Nihilism:** Life is ultimately meaningless and devoid of purpose.\n",
       "> * **Humanism:** Life's meaning is found in human connections, experiences, and contributions to society.\n",
       "> \n",
       "> **Religious Perspectives:**\n",
       "> \n",
       "> * **Christianity:** Life's purpose is to love God, love others, and spread the gospel.\n",
       "> * **Buddhism:** Life is a cycle of suffering that can be ended through enlightenment and the path of the eightfold way.\n",
       "> * **Hinduism:** Life is a journey of spiritual evolution and the attainment of moksha (liberation).\n",
       "> * **Islam:** Life's purpose is to submit to the will of Allah and live a righteous life.\n",
       "> * **Judaism:** Life's meaning is to fulfill the Torah's commandments and live a life of holiness and service.\n",
       "> \n",
       "> **Scientific Perspectives:**\n",
       "> \n",
       "> * **Evolutionary Biology:** Life's purpose is to reproduce and pass on genes.\n",
       "> * **Naturalism:** Life is a natural phenomenon without inherent meaning.\n",
       "> * **Artificial Intelligence:** The meaning of life can be whatever humans program it to be.\n",
       "> \n",
       "> **Other Perspectives:**\n",
       "> \n",
       "> * **Personal Experiences and Beliefs:** Each individual's experiences, values, and beliefs shape their own unique understanding of life's meaning.\n",
       "> * **Purpose and Fulfillment:** Life can find meaning in finding a sense of purpose, whether through work, relationships, hobbies, or other activities.\n",
       "> * **Social Impact:** Life's purpose can be found in making a positive impact on others and contributing to the well-being of society.\n",
       "> \n",
       "> **Conclusion:**\n",
       "> \n",
       "> The meaning of life is a complex and personal question that has been debated by philosophers, theologians, scientists, and individuals throughout history. There is no single, universally accepted answer. Ultimately, each person must find their own meaning and purpose in life through their own experiences and beliefs."
      ],
      "text/plain": [
       "<IPython.core.display.Markdown object>"
      ]
     },
     "execution_count": 35,
     "metadata": {},
     "output_type": "execute_result"
    }
   ],
   "source": [
    "to_markdown(response.text)"
   ]
  },
  {
   "cell_type": "code",
   "execution_count": 36,
   "id": "34429c26-5613-4f1b-a00f-049f8c6214f3",
   "metadata": {},
   "outputs": [
    {
     "name": "stdout",
     "output_type": "stream",
     "text": [
      "CPU times: total: 0 ns\n",
      "Wall time: 6.45 s\n"
     ]
    },
    {
     "data": {
      "text/markdown": [
       "> Tony Stark and Bruce Wayne are both fictional characters who have been adapted into various media, including comic books, films, and television shows. While there are many similarities between the two characters, they also have their own unique strengths and weaknesses.\n",
       "> \n",
       "> **Similarities**\n",
       "> \n",
       "> * Both Tony Stark and Bruce Wayne are wealthy industrialists who use their wealth to create technology and fight crime.\n",
       "> * They are both brilliant inventors and have created some of the most iconic gadgets and weapons in the superhero genre.\n",
       "> * They are both complex characters with troubled pasts and personal demons.\n",
       "> \n",
       "> **Differences**\n",
       "> \n",
       "> * Tony Stark is a charismatic and outgoing extrovert, while Bruce Wayne is a brooding and introverted introvert.\n",
       "> * Tony Stark is a self-made man who built his fortune from scratch, while Bruce Wayne inherited his wealth from his parents.\n",
       "> * Tony Stark is a flamboyant playboy, while Bruce Wayne is a secretive loner.\n",
       "> \n",
       "> **Who is better?**\n",
       "> \n",
       "> There is no easy answer to the question of who is better, Tony Stark or Bruce Wayne. Both characters have their own unique strengths and weaknesses, and it ultimately depends on personal preference which character you prefer.\n",
       "> \n",
       "> If you prefer a character who is more relatable and down-to-earth, then Tony Stark is the better choice. He is a flawed and often self-destructive character, but he is also a brilliant inventor and a loyal friend.\n",
       "> \n",
       "> If you prefer a character who is more mysterious and enigmatic, then Bruce Wayne is the better choice. He is a dark and brooding character with a troubled past, but he is also a skilled fighter and a brilliant detective.\n",
       "> \n",
       "> Ultimately, the best way to decide who is better, Tony Stark or Bruce Wayne, is to read their comics and watch their movies and TV shows. That way, you can decide for yourself which character you prefer."
      ],
      "text/plain": [
       "<IPython.core.display.Markdown object>"
      ]
     },
     "execution_count": 36,
     "metadata": {},
     "output_type": "execute_result"
    }
   ],
   "source": [
    "%%time\n",
    "response = model.generate_content(\"Who is better Tony Stark or Bruce Wayne?\")\n",
    "to_markdown(response.text)"
   ]
  },
  {
   "cell_type": "markdown",
   "id": "32d6c6c9-77ee-42d9-aec9-bea076f70b35",
   "metadata": {},
   "source": [
    "## Using stream()\n",
    "Stream returns the output as it is generated. It makes it appear that generation of output is happening faster.\n",
    "\n",
    "When streaming, some response attributes are not available until you've iterated through all the response chunks."
   ]
  },
  {
   "cell_type": "code",
   "execution_count": 46,
   "id": "0a4db14c-e679-4bf3-ae0f-b5881ad4f41e",
   "metadata": {},
   "outputs": [
    {
     "name": "stdout",
     "output_type": "stream",
     "text": [
      "CPU times: total: 0 ns\n",
      "Wall time: 1.08 s\n"
     ]
    }
   ],
   "source": [
    "%%time\n",
    "response = model.generate_content(\"Who is better Tony Stark or Bruce Wayne?\", stream=True)"
   ]
  },
  {
   "cell_type": "code",
   "execution_count": 47,
   "id": "e2b82c92-d794-4190-80e5-1528dc041d40",
   "metadata": {},
   "outputs": [
    {
     "name": "stdout",
     "output_type": "stream",
     "text": [
      "Tony Stark and Bruce Wayne are two of the most popular and iconic superheroes in the\n",
      " world. They are both brilliant inventors and wealthy philanthropists, but they have very different personalities and approaches to crime fighting.\n",
      "\n",
      "**Tony Stark**\n",
      "\n",
      "* **\n",
      "Personality:** Tony Stark is a charismatic and extroverted playboy. He is known for his arrogance and wit, and he often makes sarcastic remarks. However, he is also a caring and compassionate person, and he is always willing to help those in need.\n",
      "* **Abilities:** Tony Stark is a genius inventor. He designed\n",
      " and built the Iron Man suit, which gives him superhuman strength, speed, and durability. He is also a skilled engineer, mechanic, and businessman.\n",
      "* **Motivation:** Tony Stark is motivated by a desire to protect the world from evil. He saw firsthand the horrors of war, and he vowed to never let anything like that happen again.\n",
      "\n",
      "**Bruce Wayne**\n",
      "\n",
      "* **Personality:** Bruce Wayne is a quiet and introspective introvert. He is known for his dark and brooding demeanor, and he rarely smiles. However, he is also a kind and compassionate person, and he is dedicated to helping others.\n",
      "* **Abilities:**\n",
      " Bruce Wayne is a master martial artist and detective. He is also a skilled acrobat and strategist.\n",
      "* **Motivation:** Bruce Wayne is motivated by a desire to avenge the death of his parents. He saw them murdered in front of him when he was a child, and he has never forgotten that pain.\n",
      "\n",
      "**Who is better?**\n",
      "\n",
      "Tony Stark and Bruce Wayne are both great superheroes. They have different strengths and weaknesses, but they are both equally committed to protecting the world from evil. It is impossible to say who is better, because they are both excellent in their own way.\n"
     ]
    }
   ],
   "source": [
    "for chunk in response:\n",
    "  print(chunk.text)\n",
    "  #print(\"_\"*80)"
   ]
  },
  {
   "cell_type": "markdown",
   "id": "3397b142-7a8a-4044-adbb-fda98f575fcd",
   "metadata": {},
   "source": [
    "## Generate text from image and text inputs\r\n",
    "Gemini provides a multimodal mode l- `gemini-pro-vision`) that accepts both text and images and inputs.\n",
    "\n",
    " The GenerativeModel.generate_content API is designed to handle multimodal prompts and returns a text output."
   ]
  },
  {
   "cell_type": "code",
   "execution_count": null,
   "id": "5bc87e43-57d4-4cac-8888-8f768aeac710",
   "metadata": {},
   "outputs": [],
   "source": []
  },
  {
   "cell_type": "code",
   "execution_count": null,
   "id": "6fbe6779-ae58-4810-895d-c3b33d7b60ea",
   "metadata": {},
   "outputs": [],
   "source": []
  },
  {
   "cell_type": "code",
   "execution_count": null,
   "id": "73d28b19-94dd-4daf-8836-7e9ec861775b",
   "metadata": {},
   "outputs": [],
   "source": []
  },
  {
   "cell_type": "code",
   "execution_count": null,
   "id": "59b24b32-7573-4e45-a17a-99a0b1013035",
   "metadata": {},
   "outputs": [],
   "source": []
  },
  {
   "cell_type": "code",
   "execution_count": null,
   "id": "f2930c39-da79-409f-9bbf-84f73d683746",
   "metadata": {},
   "outputs": [],
   "source": []
  },
  {
   "cell_type": "code",
   "execution_count": null,
   "id": "c6c42359-d317-45f2-96a5-f603e629423b",
   "metadata": {},
   "outputs": [],
   "source": []
  },
  {
   "cell_type": "code",
   "execution_count": null,
   "id": "119f1678-0bf0-48b4-a555-6687608f86f2",
   "metadata": {},
   "outputs": [],
   "source": []
  },
  {
   "cell_type": "code",
   "execution_count": null,
   "id": "0cbc4b6e-d807-469c-959e-75f5f1d33b1e",
   "metadata": {},
   "outputs": [],
   "source": []
  },
  {
   "cell_type": "code",
   "execution_count": null,
   "id": "398466d6-50a7-4e14-be20-c158fbd52c7f",
   "metadata": {},
   "outputs": [],
   "source": []
  },
  {
   "cell_type": "code",
   "execution_count": null,
   "id": "34867970-4885-46cf-b5fe-e6d4cd22ec46",
   "metadata": {},
   "outputs": [],
   "source": []
  },
  {
   "cell_type": "code",
   "execution_count": null,
   "id": "aaf62926-ca1c-40db-9a82-0fd1a26d5fe7",
   "metadata": {},
   "outputs": [],
   "source": []
  }
 ],
 "metadata": {
  "kernelspec": {
   "display_name": "sentnlp",
   "language": "python",
   "name": "sentnlp"
  },
  "language_info": {
   "codemirror_mode": {
    "name": "ipython",
    "version": 3
   },
   "file_extension": ".py",
   "mimetype": "text/x-python",
   "name": "python",
   "nbconvert_exporter": "python",
   "pygments_lexer": "ipython3",
   "version": "3.11.0"
  }
 },
 "nbformat": 4,
 "nbformat_minor": 5
}
