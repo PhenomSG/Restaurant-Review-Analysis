{
 "cells": [
  {
   "cell_type": "markdown",
   "id": "f1d155ff-e7af-4096-88fb-0940a89b628a",
   "metadata": {},
   "source": [
    "# Prerequisites"
   ]
  },
  {
   "cell_type": "markdown",
   "id": "7484a3be-f516-48b4-ae68-3e51ae6f605b",
   "metadata": {},
   "source": [
    "#### Upgrading pip just to be sure"
   ]
  },
  {
   "cell_type": "code",
   "execution_count": 2,
   "id": "0abaee97-6d93-4618-af20-5f1f8bb2ac6e",
   "metadata": {},
   "outputs": [
    {
     "name": "stdout",
     "output_type": "stream",
     "text": [
      "Requirement already satisfied: pip in e:\\sentiment_analysis_using_nlp\\sentnlp\\lib\\site-packages (24.0)\n",
      "Note: you may need to restart the kernel to use updated packages.\n"
     ]
    }
   ],
   "source": [
    "pip install --upgrade pip"
   ]
  },
  {
   "cell_type": "markdown",
   "id": "5a5fcc1c-0dbc-4a27-8710-0b654af969ac",
   "metadata": {},
   "source": [
    "## Installing Python SDK\n",
    "### The Python SDK for the Gemini API, is contained in the google-generativeai package."
   ]
  },
  {
   "cell_type": "code",
   "execution_count": 1,
   "id": "87b44d3d-cc31-42e6-969d-6593ce51d094",
   "metadata": {},
   "outputs": [
    {
     "name": "stdout",
     "output_type": "stream",
     "text": [
      "Note: you may need to restart the kernel to use updated packages.\n"
     ]
    }
   ],
   "source": [
    "pip install -q -U google-generativeai"
   ]
  },
  {
   "cell_type": "markdown",
   "id": "0aa66342-3252-46c9-aec5-0e2423c0d55a",
   "metadata": {},
   "source": [
    "## Import Packages"
   ]
  },
  {
   "cell_type": "code",
   "execution_count": null,
   "id": "c6b9a408-4a3e-4a0c-aad8-491c5616012e",
   "metadata": {},
   "outputs": [],
   "source": [
    "import pathlib\n",
    "import textwrap\n",
    "\n",
    "import google.generativeai as genai\n",
    "\n",
    "from IPython.display import display\n",
    "from IPython.display import Markdown\n",
    "\n",
    "\n",
    "def to_markdown(text):\n",
    "  text = text.replace('•', '  *')\n",
    "  return Markdown(textwrap.indent(text, '> ', predicate=lambda _: True))"
   ]
  },
  {
   "cell_type": "code",
   "execution_count": null,
   "id": "fd457ae3-2b83-4b90-8eb7-20fbdcfb705e",
   "metadata": {},
   "outputs": [],
   "source": []
  },
  {
   "cell_type": "code",
   "execution_count": null,
   "id": "0cbc4b6e-d807-469c-959e-75f5f1d33b1e",
   "metadata": {},
   "outputs": [],
   "source": []
  },
  {
   "cell_type": "code",
   "execution_count": null,
   "id": "398466d6-50a7-4e14-be20-c158fbd52c7f",
   "metadata": {},
   "outputs": [],
   "source": []
  },
  {
   "cell_type": "code",
   "execution_count": null,
   "id": "34867970-4885-46cf-b5fe-e6d4cd22ec46",
   "metadata": {},
   "outputs": [],
   "source": []
  },
  {
   "cell_type": "code",
   "execution_count": null,
   "id": "aaf62926-ca1c-40db-9a82-0fd1a26d5fe7",
   "metadata": {},
   "outputs": [],
   "source": []
  }
 ],
 "metadata": {
  "kernelspec": {
   "display_name": "sentnlp",
   "language": "python",
   "name": "sentnlp"
  },
  "language_info": {
   "codemirror_mode": {
    "name": "ipython",
    "version": 3
   },
   "file_extension": ".py",
   "mimetype": "text/x-python",
   "name": "python",
   "nbconvert_exporter": "python",
   "pygments_lexer": "ipython3",
   "version": "3.11.0"
  }
 },
 "nbformat": 4,
 "nbformat_minor": 5
}
